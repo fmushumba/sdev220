{
 "cells": [
  {
   "cell_type": "code",
   "execution_count": 1,
   "id": "0c88a381",
   "metadata": {},
   "outputs": [
    {
     "name": "stdout",
     "output_type": "stream",
     "text": [
      "too low\n"
     ]
    }
   ],
   "source": [
    "#4.1\n",
    "secret=6\n",
    "guess=4\n",
    "\n",
    "if guess<secret:\n",
    "    print(\"too low\")\n",
    "elif guess>secret:\n",
    "    print(\"too high\")\n",
    "else:\n",
    "    print(\"just right\")"
   ]
  },
  {
   "cell_type": "code",
   "execution_count": 3,
   "id": "c68f2a13",
   "metadata": {},
   "outputs": [
    {
     "name": "stdout",
     "output_type": "stream",
     "text": [
      "watermelon,pumkin,cherry\n"
     ]
    }
   ],
   "source": [
    "#4.2\n",
    "small=True\n",
    "green=False\n",
    "if small==True and green==True:\n",
    "    print(\"pea\")\n",
    "else:\n",
    "    print(\"watermelon,pumkin,cherry\")"
   ]
  },
  {
   "cell_type": "code",
   "execution_count": 12,
   "id": "f87669d7",
   "metadata": {},
   "outputs": [
    {
     "name": "stdout",
     "output_type": "stream",
     "text": [
      "3\n",
      "2\n",
      "1\n",
      "0\n"
     ]
    }
   ],
   "source": [
    "#6.1\n",
    "list_values=[3, 2, 1, 0]\n",
    "for value in list_values:\n",
    "    print(value)"
   ]
  },
  {
   "cell_type": "code",
   "execution_count": 11,
   "id": "68606abb",
   "metadata": {},
   "outputs": [
    {
     "name": "stdout",
     "output_type": "stream",
     "text": [
      "too low\n",
      "too low\n",
      "too low\n",
      "too low\n",
      "too low\n",
      "too low\n",
      "found it!\n",
      "oops\n"
     ]
    }
   ],
   "source": [
    "#6.2\n",
    "guess_me=7\n",
    "number=1\n",
    "i=0\n",
    "while number>0:\n",
    "    if number<guess_me:\n",
    "        print(\"too low\")\n",
    "    elif number>guess_me:\n",
    "        print(\"oops\")\n",
    "        break\n",
    "    else:\n",
    "        print(\"found it!\")\n",
    "    number+=1"
   ]
  },
  {
   "cell_type": "code",
   "execution_count": 13,
   "id": "cf801c50",
   "metadata": {},
   "outputs": [
    {
     "name": "stdout",
     "output_type": "stream",
     "text": [
      "too low\n",
      "too low\n",
      "too low\n",
      "too low\n",
      "too low\n",
      "found it\n"
     ]
    }
   ],
   "source": [
    "#6.3\n",
    "guess_me=5\n",
    "for number in range(10):\n",
    "    if number<guess_me:\n",
    "        print(\"too low\")\n",
    "    elif number>guess_me:\n",
    "        print(\"oops\")\n",
    "        break\n",
    "    else:\n",
    "        print(\"found it\")\n",
    "        break\n",
    "        "
   ]
  },
  {
   "cell_type": "code",
   "execution_count": null,
   "id": "cec7ffba",
   "metadata": {},
   "outputs": [],
   "source": []
  }
 ],
 "metadata": {
  "kernelspec": {
   "display_name": "Python 3 (ipykernel)",
   "language": "python",
   "name": "python3"
  },
  "language_info": {
   "codemirror_mode": {
    "name": "ipython",
    "version": 3
   },
   "file_extension": ".py",
   "mimetype": "text/x-python",
   "name": "python",
   "nbconvert_exporter": "python",
   "pygments_lexer": "ipython3",
   "version": "3.9.13"
  }
 },
 "nbformat": 4,
 "nbformat_minor": 5
}
