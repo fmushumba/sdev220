{
 "cells": [
  {
   "cell_type": "code",
   "execution_count": 2,
   "id": "aad0d0f7",
   "metadata": {},
   "outputs": [],
   "source": [
    "import sqlalchemy as sa\n",
    "from sqlalchemy.ext.declarative import declarative_base\n",
    "conn=sa.create_engine('sqlite:///books.db')\n",
    "Base = declarative_base()\n",
    "class Book(Base):\n",
    "    __tablename__='books'\n",
    "    year=sa.Column(sa.Integer, primary_key=True)\n",
    "    title=sa.Column(sa.String(80), nullable=False)\n",
    "    author= sa.Column(sa.String(80), nullable=False)\n",
    "    \n",
    "    def __repr__(self):\n",
    "        return f\"{self.title} written by{self.author}\"\n",
    "\n",
    "    \n",
    "    Base.metadata.create_all(conn)\n",
    "rows=conn.execute('SELECT * FROM zoo ORDER by asc')\n",
    "for row in rows:\n",
    "    print(row)"
   ]
  },
  {
   "cell_type": "code",
   "execution_count": null,
   "id": "4ff8496c",
   "metadata": {},
   "outputs": [],
   "source": []
  }
 ],
 "metadata": {
  "kernelspec": {
   "display_name": "Python 3 (ipykernel)",
   "language": "python",
   "name": "python3"
  },
  "language_info": {
   "codemirror_mode": {
    "name": "ipython",
    "version": 3
   },
   "file_extension": ".py",
   "mimetype": "text/x-python",
   "name": "python",
   "nbconvert_exporter": "python",
   "pygments_lexer": "ipython3",
   "version": "3.9.13"
  }
 },
 "nbformat": 4,
 "nbformat_minor": 5
}
